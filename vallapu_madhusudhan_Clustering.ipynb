{
 "cells": [
  {
   "cell_type": "code",
   "execution_count": null,
   "id": "d88a9e88",
   "metadata": {},
   "outputs": [],
   "source": [
    "import pandas as pd\n",
    "import numpy as np\n",
    "from sklearn.cluster import KMeans\n",
    "from sklearn.preprocessing import StandardScaler\n",
    "from sklearn.decomposition import PCA\n",
    "from sklearn.metrics import davies_bouldin_score\n",
    "import seaborn as sns\n",
    "import matplotlib.pyplot as plt\n",
    "\n",
    "# Load datasets\n",
    "customers = pd.read_csv(\"Customers.csv\")\n",
    "transactions = pd.read_csv(\"Transactions.csv\")\n",
    "\n",
    "# Aggregate customer transaction data\n",
    "customer_aggregated = transactions.groupby('CustomerID').agg({\n",
    "    'TotalValue': 'sum',\n",
    "    'Quantity': 'sum',\n",
    "    'TransactionID': 'count'\n",
    "}).reset_index()\n",
    "\n",
    "# Merge with customer data\n",
    "customer_features = customers.merge(customer_aggregated, on='CustomerID', how='left')\n",
    "\n",
    "# Fill missing values (if any)\n",
    "customer_features.fillna(0, inplace=True)\n",
    "\n",
    "# Preprocess data\n",
    "numeric_features = customer_features.drop(columns=['CustomerID', 'CustomerName', 'Region', 'SignupDate'])\n",
    "scaler = StandardScaler()\n",
    "scaled_features = scaler.fit_transform(numeric_features)\n",
    "\n",
    "# K-Means Clustering\n",
    "kmeans = KMeans(n_clusters=5, random_state=42)\n",
    "customer_features['Cluster'] = kmeans.fit_predict(scaled_features)\n",
    "\n",
    "# Evaluate clustering\n",
    "db_index = davies_bouldin_score(scaled_features, customer_features['Cluster'])\n",
    "print(f\"Davies-Bouldin Index: {db_index}\")\n",
    "\n",
    "# Visualize Clusters\n",
    "pca = PCA(n_components=2)\n",
    "reduced_features = pca.fit_transform(scaled_features)\n",
    "customer_features['PCA1'] = reduced_features[:, 0]\n",
    "customer_features['PCA2'] = reduced_features[:, 1]\n",
    "\n",
    "sns.scatterplot(\n",
    "    data=customer_features, x='PCA1', y='PCA2', hue='Cluster', palette='viridis'\n",
    ")\n",
    "plt.title('Customer Clusters')\n",
    "plt.show()\n",
    "\n",
    "# Save clustering results\n",
    "customer_features.to_csv(\"FirstName_LastName_Clustering.csv\", index=False)\n"
   ]
  }
 ],
 "metadata": {
  "kernelspec": {
   "display_name": "Python 3 (ipykernel)",
   "language": "python",
   "name": "python3"
  },
  "language_info": {
   "codemirror_mode": {
    "name": "ipython",
    "version": 3
   },
   "file_extension": ".py",
   "mimetype": "text/x-python",
   "name": "python",
   "nbconvert_exporter": "python",
   "pygments_lexer": "ipython3",
   "version": "3.9.13"
  }
 },
 "nbformat": 4,
 "nbformat_minor": 5
}
