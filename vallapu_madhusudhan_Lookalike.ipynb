{
 "cells": [
  {
   "cell_type": "code",
   "execution_count": null,
   "id": "94e25a2a",
   "metadata": {},
   "outputs": [],
   "source": [
    "from sklearn.metrics.pairwise import cosine_similarity\n",
    "from sklearn.preprocessing import StandardScaler\n",
    "import pandas as pd\n",
    "\n",
    "# Load datasets\n",
    "customers = pd.read_csv(\"Customers.csv\")\n",
    "transactions = pd.read_csv(\"Transactions.csv\")\n",
    "\n",
    "# Prepare customer-product matrix\n",
    "customer_profile = transactions.pivot_table(index=\"CustomerID\", columns=\"ProductID\", values=\"Quantity\", fill_value=0)\n",
    "\n",
    "# Scale data\n",
    "scaler = StandardScaler()\n",
    "scaled_matrix = scaler.fit_transform(customer_profile)\n",
    "\n",
    "# Compute similarity\n",
    "similarity = cosine_similarity(scaled_matrix)\n",
    "similarity_df = pd.DataFrame(similarity, index=customer_profile.index, columns=customer_profile.index)\n",
    "\n",
    "# Recommend top 3 similar customers\n",
    "lookalikes = {}\n",
    "for customer_id in similarity_df.index[:20]:  # Only for customers C0001 - C0020\n",
    "    similar_customers = similarity_df.loc[customer_id].sort_values(ascending=False)[1:4]\n",
    "    lookalikes[customer_id] = similar_customers.to_dict()\n",
    "\n",
    "# Save recommendations\n",
    "lookalike_df = pd.DataFrame([(k, v) for k, v in lookalikes.items()], columns=[\"CustomerID\", \"Similar_Customers\"])\n",
    "lookalike_df.to_csv(\"FirstName_LastName_Lookalike.csv\", index=False)\n",
    "print(lookalike_df)\n"
   ]
  }
 ],
 "metadata": {
  "kernelspec": {
   "display_name": "Python 3 (ipykernel)",
   "language": "python",
   "name": "python3"
  },
  "language_info": {
   "codemirror_mode": {
    "name": "ipython",
    "version": 3
   },
   "file_extension": ".py",
   "mimetype": "text/x-python",
   "name": "python",
   "nbconvert_exporter": "python",
   "pygments_lexer": "ipython3",
   "version": "3.9.13"
  }
 },
 "nbformat": 4,
 "nbformat_minor": 5
}
