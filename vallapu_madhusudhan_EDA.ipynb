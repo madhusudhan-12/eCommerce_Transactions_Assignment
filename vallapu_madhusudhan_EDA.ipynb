{
 "cells": [
  {
   "cell_type": "code",
   "execution_count": null,
   "id": "94371935",
   "metadata": {},
   "outputs": [],
   "source": [
    "# EDA Code Template for FirstName_LastName_EDA.ipynb\n",
    "import pandas as pd\n",
    "import matplotlib.pyplot as plt\n",
    "import seaborn as sns\n",
    "\n",
    "# Load datasets\n",
    "customers = pd.read_csv(\"Customers.csv\")\n",
    "products = pd.read_csv(\"Products.csv\")\n",
    "transactions = pd.read_csv(\"Transactions.csv\")\n",
    "\n",
    "# Merging datasets for analysis\n",
    "merged_data = transactions.merge(customers, on=\"CustomerID\").merge(products, on=\"ProductID\")\n",
    "\n",
    "# Basic statistics\n",
    "print(customers.info())\n",
    "print(products.info())\n",
    "print(transactions.info())\n",
    "print(merged_data.describe())\n",
    "\n",
    "# Visualizations\n",
    "sns.countplot(data=customers, x=\"Region\")\n",
    "plt.title(\"Customer Distribution by Region\")\n",
    "plt.show()\n",
    "\n",
    "sns.barplot(data=products, x=\"Category\", y=\"Price\", ci=None)\n",
    "plt.title(\"Average Product Price by Category\")\n",
    "plt.xticks(rotation=45)\n",
    "plt.show()\n",
    "\n",
    "sns.histplot(merged_data[\"TotalValue\"], bins=20)\n",
    "plt.title(\"Distribution of Total Transaction Value\")\n",
    "plt.show()\n",
    "\n",
    "# Insights\n",
    "insights = [\n",
    "    \"Insight 1: Top regions with the highest number of customers can be targeted for promotions.\",\n",
    "    \"Insight 2: Popular product categories can guide inventory planning.\",\n",
    "    \"Insight 3: High-value transactions peak during specific months (analyze by TransactionDate).\",\n",
    "    \"Insight 4: Customer purchase frequency helps identify loyal customers.\",\n",
    "    \"Insight 5: Low-performing products in terms of sales value need revisiting.\"\n",
    "]\n",
    "print(insights)\n"
   ]
  }
 ],
 "metadata": {
  "kernelspec": {
   "display_name": "Python 3 (ipykernel)",
   "language": "python",
   "name": "python3"
  },
  "language_info": {
   "codemirror_mode": {
    "name": "ipython",
    "version": 3
   },
   "file_extension": ".py",
   "mimetype": "text/x-python",
   "name": "python",
   "nbconvert_exporter": "python",
   "pygments_lexer": "ipython3",
   "version": "3.9.13"
  }
 },
 "nbformat": 4,
 "nbformat_minor": 5
}
