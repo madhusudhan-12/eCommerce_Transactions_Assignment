{
 "cells": [
  {
   "cell_type": "code",
   "execution_count": null,
   "id": "a3627dbb",
   "metadata": {},
   "outputs": [],
   "source": [
    "import pandas as pd\n",
    "from sklearn.metrics.pairwise import cosine_similarity\n",
    "from sklearn.preprocessing import StandardScaler\n",
    "\n",
    "# Load datasets\n",
    "customers = pd.read_csv(\"Customers.csv\")\n",
    "transactions = pd.read_csv(\"Transactions.csv\")\n",
    "products = pd.read_csv(\"Products.csv\")\n",
    "\n",
    "# Aggregate customer transaction data\n",
    "customer_aggregated = transactions.groupby('CustomerID').agg({\n",
    "    'TotalValue': 'sum',\n",
    "    'Quantity': 'sum',\n",
    "    'TransactionID': 'count'\n",
    "}).reset_index()\n",
    "\n",
    "# Merge customer and product data into transaction-level data\n",
    "transactions = transactions.merge(products, on='ProductID', how='left')\n",
    "customer_aggregated = customers.merge(customer_aggregated, on='CustomerID', how='left')\n",
    "customer_aggregated.fillna(0, inplace=True)\n",
    "\n",
    "# Preprocess data\n",
    "numeric_features = customer_aggregated.drop(columns=['CustomerID', 'CustomerName', 'Region', 'SignupDate'])\n",
    "scaler = StandardScaler()\n",
    "scaled_features = scaler.fit_transform(numeric_features)\n",
    "\n",
    "# Compute cosine similarity\n",
    "similarity_matrix = cosine_similarity(scaled_features)\n",
    "\n",
    "# Generate lookalike recommendations\n",
    "lookalike_dict = {}\n",
    "for idx, customer_id in enumerate(customer_aggregated['CustomerID'][:20]):  # Top 20 customers\n",
    "    similarity_scores = list(enumerate(similarity_matrix[idx]))\n",
    "    similarity_scores = sorted(similarity_scores, key=lambda x: x[1], reverse=True)\n",
    "    \n",
    "    # Get top 3 most similar customers excluding the customer itself\n",
    "    top_lookalikes = [\n",
    "        (customer_aggregated['CustomerID'][sim[0]], sim[1])\n",
    "        for sim in similarity_scores[1:4]\n",
    "    ]\n",
    "    lookalike_dict[customer_id] = top_lookalikes\n",
    "\n",
    "# Create Lookalike.csv\n",
    "lookalike_rows = []\n",
    "for cust_id, lookalikes in lookalike_dict.items():\n",
    "    for lookalike_id, score in lookalikes:\n",
    "        lookalike_rows.append({'CustomerID': cust_id, 'LookalikeID': lookalike_id, 'Score': score})\n",
    "\n",
    "lookalike_df = pd.DataFrame(lookalike_rows)\n",
    "lookalike_df.to_csv(\"FirstName_LastName_Lookalike.csv\", index=False)\n",
    "\n",
    "print(\"Lookalike recommendations saved to 'FirstName_LastName_Lookalike.csv'.\")\n"
   ]
  }
 ],
 "metadata": {
  "kernelspec": {
   "display_name": "Python 3 (ipykernel)",
   "language": "python",
   "name": "python3"
  },
  "language_info": {
   "codemirror_mode": {
    "name": "ipython",
    "version": 3
   },
   "file_extension": ".py",
   "mimetype": "text/x-python",
   "name": "python",
   "nbconvert_exporter": "python",
   "pygments_lexer": "ipython3",
   "version": "3.9.13"
  }
 },
 "nbformat": 4,
 "nbformat_minor": 5
}
